{
  "nbformat": 4,
  "nbformat_minor": 0,
  "metadata": {
    "colab": {
      "provenance": [],
      "collapsed_sections": [
        "l5Q-SupywN0g"
      ],
      "include_colab_link": true
    },
    "kernelspec": {
      "name": "python3",
      "display_name": "Python 3"
    },
    "language_info": {
      "name": "python"
    }
  },
  "cells": [
    {
      "cell_type": "markdown",
      "metadata": {
        "id": "view-in-github",
        "colab_type": "text"
      },
      "source": [
        "<a href=\"https://colab.research.google.com/github/Sachidanand17/1st-project/blob/master/Copy_of_EECE5550_HW1.ipynb\" target=\"_parent\"><img src=\"https://colab.research.google.com/assets/colab-badge.svg\" alt=\"Open In Colab\"/></a>"
      ]
    },
    {
      "cell_type": "markdown",
      "source": [
        "# HW1: Mobile Robot Kinematics & Control\n",
        "\n",
        "### EECE 5550: Mobile Robotics (Spring 2025)\n"
      ],
      "metadata": {
        "id": "zkxjIur0iH-W"
      }
    },
    {
      "cell_type": "markdown",
      "source": [
        "**Collaboration Statement:**"
      ],
      "metadata": {
        "id": "24gMxVX7yaLr"
      }
    },
    {
      "cell_type": "code",
      "source": [
        "# Fill this in per the syllabus, or we will assign a zero to this assignment."
      ],
      "metadata": {
        "id": "QXaBB3IJyxcb"
      },
      "execution_count": null,
      "outputs": []
    },
    {
      "cell_type": "markdown",
      "source": [
        "# Installation"
      ],
      "metadata": {
        "id": "l5Q-SupywN0g"
      }
    },
    {
      "cell_type": "markdown",
      "source": [
        "This semester, we will use a custom simulator, called `gym-neu-racing`, to develop navigation algorithms. We implemented the basic structure of this simulator for you, and the HW assignments will ask you to implement important functions (e.g., kinematics, sensing, planning, mapping).\n",
        "\n",
        "To install the simulator, you can use this command (it will download the latest code from GitLab and automatically install it in the environment your Colab notebook runs in):"
      ],
      "metadata": {
        "id": "OaX3MKJZiWb3"
      }
    },
    {
      "cell_type": "code",
      "execution_count": 1,
      "metadata": {
        "id": "W1a17fpJ9ONw",
        "colab": {
          "base_uri": "https://localhost:8080/"
        },
        "outputId": "5352fbc9-9c58-4560-e210-f9009f4a6ac9"
      },
      "outputs": [
        {
          "output_type": "stream",
          "name": "stdout",
          "text": [
            "Collecting git+https://gitlab.com/neu-autonomy/gym-neu-racing.git\n",
            "  Cloning https://gitlab.com/neu-autonomy/gym-neu-racing.git to /tmp/pip-req-build-lg3ad1ei\n",
            "  Running command git clone --filter=blob:none --quiet https://gitlab.com/neu-autonomy/gym-neu-racing.git /tmp/pip-req-build-lg3ad1ei\n",
            "  Resolved https://gitlab.com/neu-autonomy/gym-neu-racing.git to commit 60f6a0e80b5ae6dd14fb13a837c252d0d88fe571\n",
            "  Preparing metadata (setup.py) ... \u001b[?25l\u001b[?25hdone\n",
            "Collecting gymnasium>=0.26.1 (from gym_neu_racing==0.0.1)\n",
            "  Downloading gymnasium-1.0.0-py3-none-any.whl.metadata (9.5 kB)\n",
            "Requirement already satisfied: numpy in /usr/local/lib/python3.10/dist-packages (from gym_neu_racing==0.0.1) (1.26.4)\n",
            "Collecting mypy (from gym_neu_racing==0.0.1)\n",
            "  Downloading mypy-1.14.1-cp310-cp310-manylinux_2_17_x86_64.manylinux2014_x86_64.manylinux_2_28_x86_64.whl.metadata (2.1 kB)\n",
            "Requirement already satisfied: cloudpickle>=1.2.0 in /usr/local/lib/python3.10/dist-packages (from gymnasium>=0.26.1->gym_neu_racing==0.0.1) (3.1.0)\n",
            "Requirement already satisfied: typing-extensions>=4.3.0 in /usr/local/lib/python3.10/dist-packages (from gymnasium>=0.26.1->gym_neu_racing==0.0.1) (4.12.2)\n",
            "Collecting farama-notifications>=0.0.1 (from gymnasium>=0.26.1->gym_neu_racing==0.0.1)\n",
            "  Downloading Farama_Notifications-0.0.4-py3-none-any.whl.metadata (558 bytes)\n",
            "Collecting mypy_extensions>=1.0.0 (from mypy->gym_neu_racing==0.0.1)\n",
            "  Downloading mypy_extensions-1.0.0-py3-none-any.whl.metadata (1.1 kB)\n",
            "Requirement already satisfied: tomli>=1.1.0 in /usr/local/lib/python3.10/dist-packages (from mypy->gym_neu_racing==0.0.1) (2.2.1)\n",
            "Downloading gymnasium-1.0.0-py3-none-any.whl (958 kB)\n",
            "\u001b[2K   \u001b[90m━━━━━━━━━━━━━━━━━━━━━━━━━━━━━━━━━━━━━━━━\u001b[0m \u001b[32m958.1/958.1 kB\u001b[0m \u001b[31m9.0 MB/s\u001b[0m eta \u001b[36m0:00:00\u001b[0m\n",
            "\u001b[?25hDownloading mypy-1.14.1-cp310-cp310-manylinux_2_17_x86_64.manylinux2014_x86_64.manylinux_2_28_x86_64.whl (12.8 MB)\n",
            "\u001b[2K   \u001b[90m━━━━━━━━━━━━━━━━━━━━━━━━━━━━━━━━━━━━━━━━\u001b[0m \u001b[32m12.8/12.8 MB\u001b[0m \u001b[31m42.5 MB/s\u001b[0m eta \u001b[36m0:00:00\u001b[0m\n",
            "\u001b[?25hDownloading Farama_Notifications-0.0.4-py3-none-any.whl (2.5 kB)\n",
            "Downloading mypy_extensions-1.0.0-py3-none-any.whl (4.7 kB)\n",
            "Building wheels for collected packages: gym_neu_racing\n",
            "  Building wheel for gym_neu_racing (setup.py) ... \u001b[?25l\u001b[?25hdone\n",
            "  Created wheel for gym_neu_racing: filename=gym_neu_racing-0.0.1-py3-none-any.whl size=65573 sha256=6b1f6b8f3ccf3ba46e8ddaf1b025b13ff85958de3d4fb54788b0588070e68c81\n",
            "  Stored in directory: /tmp/pip-ephem-wheel-cache-o_60ca0b/wheels/2b/40/20/13d3d44e20167f192ae2e89c0c279882d6064e6d226cc3efaa\n",
            "Successfully built gym_neu_racing\n",
            "Installing collected packages: farama-notifications, mypy_extensions, gymnasium, mypy, gym_neu_racing\n",
            "Successfully installed farama-notifications-0.0.4 gym_neu_racing-0.0.1 gymnasium-1.0.0 mypy-1.14.1 mypy_extensions-1.0.0\n"
          ]
        }
      ],
      "source": [
        "!pip install git+https://gitlab.com/neu-autonomy/gym-neu-racing.git"
      ]
    },
    {
      "cell_type": "markdown",
      "source": [
        "Now that the simulator and its dependencies have been installed, you can import the modules you'll need for this assignment:"
      ],
      "metadata": {
        "id": "U528T-DbjK3L"
      }
    },
    {
      "cell_type": "code",
      "source": [
        "import gymnasium\n",
        "import numpy as np\n",
        "import gym_neu_racing\n",
        "from gymnasium import spaces\n",
        "from gym_neu_racing.envs.wrappers import StateFeedbackWrapper\n",
        "import matplotlib.pyplot as plt\n",
        "from typing import Callable"
      ],
      "metadata": {
        "id": "ylskOzCW-VEt"
      },
      "execution_count": 4,
      "outputs": []
    },
    {
      "cell_type": "markdown",
      "source": [
        "# You can create an instance of the simulator that you'll build on throughout the assignment:"
      ],
      "metadata": {
        "id": "U_H4vC_UjVh9"
      }
    },
    {
      "cell_type": "code",
      "source": [
        "# Create an instance of the mobile robot simulator we'll use this semester\n",
        "env = gymnasium.make(\"gym_neu_racing/NEUEmptyWorld-v0\")\n",
        "\n",
        "# Tell the simulator to directly provide the current state vector (no sensors yet)\n",
        "env = StateFeedbackWrapper(env)\n",
        "\n",
        "print(dir(env.unwrapped))"
      ],
      "metadata": {
        "id": "KLBNRUxk9biN",
        "colab": {
          "base_uri": "https://localhost:8080/"
        },
        "outputId": "652c65b7-667f-4630-9d65-4f93f7f9074c"
      },
      "execution_count": 5,
      "outputs": [
        {
          "output_type": "stream",
          "name": "stdout",
          "text": [
            "['__annotations__', '__class__', '__class_getitem__', '__delattr__', '__dict__', '__dir__', '__doc__', '__enter__', '__eq__', '__exit__', '__format__', '__ge__', '__getattribute__', '__gt__', '__hash__', '__init__', '__init_subclass__', '__le__', '__lt__', '__module__', '__ne__', '__new__', '__orig_bases__', '__parameters__', '__reduce__', '__reduce_ex__', '__repr__', '__setattr__', '__sizeof__', '__slots__', '__str__', '__subclasshook__', '__weakref__', '_get_goal', '_get_info', '_get_obs', '_is_protocol', '_motion_model', '_np_random', '_np_random_seed', '_sensor_models', 'action_space', 'check_if_at_goal', 'close', 'dt', 'get_wrapper_attr', 'goal', 'goal_min_radius', 'goal_pos_range', 'goal_threshold', 'has_wrapper_attr', 'init_state_range', 'metadata', 'motion_model', 'np_random', 'np_random_seed', 'observation_space', 'render', 'render_mode', 'reset', 'sensor_models', 'set_wrapper_attr', 'spec', 'state', 'step', 'unwrapped']\n"
          ]
        }
      ]
    },
    {
      "cell_type": "markdown",
      "source": [
        "# Problem 1"
      ],
      "metadata": {
        "id": "TKUvYLxpv2p4"
      }
    },
    {
      "cell_type": "markdown",
      "source": [
        "## 1a) Run the baseline simulator & generate a plot"
      ],
      "metadata": {
        "id": "oHr3pCDajeQr"
      }
    },
    {
      "cell_type": "markdown",
      "source": [
        "Here's an example of how to run the simulator for a few timesteps. In this assignment, we told the simulator to return the true state of the environment (in future assignments, we'll only give noisy sensor data).\n",
        "\n",
        "In this problem, you should make a plot of the system's state over time. This will be helpful as you debug future parts of the assignment. This part uses the Unicycle kinematic model that's built into the simulator.\n",
        "\n",
        "**Deliverables**:\n",
        "- Implement the `plot_path` method. At a minimum, you should plot the (x,y) position over time (the first 2 elements of the state vector). You are welcome to add other capabilities to your `plot_path` function as you go through the assignment (e.g., visualizing the heading angle and/or the goal coordinate), but this is not necessary for this part. You probably should make your axes have the same scale (e.g., using `plt.axis('equal')`)."
      ],
      "metadata": {
        "id": "rSN_vAxgrB7p"
      }
    },
    {
      "cell_type": "code",
      "source": [
        "def plot_path(env: gymnasium.Env, observation_history: list[np.ndarray]) -> None:\n",
        "\n",
        "    x_positions = [obs[0] for obs in observation_history]\n",
        "    y_positions = [obs[1] for obs in observation_history]\n",
        "\n",
        "    goal_position = env.unwrapped.goal\n",
        "    plt.scatter(goal_position[0], goal_position[1], color='green', marker='*', s=200, label='Goal')\n",
        "\n",
        "\n",
        "    plt.figure(figsize=(8, 8))\n",
        "    plt.plot(x_positions, y_positions, marker='o', label='Robot Path')\n",
        "    plt.xlabel('X Position')\n",
        "    plt.ylabel('Y Position')\n",
        "    plt.title('Robot Path in 2D Space')\n",
        "    plt.axis('equal')\n",
        "    plt.legend()\n",
        "    plt.grid(True)\n",
        "    plt.show()"
      ],
      "metadata": {
        "id": "0MwJmizDsKT_"
      },
      "execution_count": 7,
      "outputs": []
    },
    {
      "cell_type": "code",
      "source": [
        "def dummy_unicycle_controller(current_state: np.ndarray) -> np.ndarray:\n",
        "  return np.array([3., 0.2]) # [linear speed, angular speed]\n",
        "\n",
        "def simulate_n_steps(env: gymnasium.Env, num_steps: int, controller: Callable):\n",
        "\n",
        "  observation_history = []\n",
        "\n",
        "  obs, _ = env.reset()\n",
        "  observation_history.append(obs)\n",
        "  print(f\"initial state: {obs}\")\n",
        "\n",
        "  # run the simulator for a few steps and see how the state evolves\n",
        "  for _ in range(num_steps):\n",
        "    action = controller(obs)\n",
        "    obs, _, terminated, _, _ = env.step(action)\n",
        "    observation_history.append(obs)\n",
        "    print(f\"current state: {obs}\")\n",
        "    if terminated:\n",
        "      break\n",
        "\n",
        "  return observation_history"
      ],
      "metadata": {
        "id": "JkI_qKAOudzH"
      },
      "execution_count": 8,
      "outputs": []
    },
    {
      "cell_type": "code",
      "source": [
        "# Tell the simulator to its built-in kinematic model\n",
        "env.unwrapped.motion_model = gym_neu_racing.motion_models.Unicycle()\n",
        "\n",
        "# Run the simulation and plot the path taken\n",
        "num_steps = 10\n",
        "observation_history = simulate_n_steps(env, num_steps, dummy_unicycle_controller)\n",
        "plot_path(env, observation_history)"
      ],
      "metadata": {
        "id": "sMt4OSl2jnIr",
        "colab": {
          "base_uri": "https://localhost:8080/",
          "height": 1000
        },
        "outputId": "cfdf161d-7f9d-4da3-e7de-ee425632275f"
      },
      "execution_count": 9,
      "outputs": [
        {
          "output_type": "stream",
          "name": "stdout",
          "text": [
            "initial state: [ 0.29538312  1.2832835  -0.33126614]\n",
            "current state: [ 0.38994625  1.25075944 -0.31126614]\n",
            "current state: [ 0.48514091  1.22013303 -0.29126614]\n",
            "current state: [ 0.58092901  1.1914165  -0.27126614]\n",
            "current state: [ 0.67727225  1.16462135 -0.25126614]\n",
            "current state: [ 0.77413209  1.1397583  -0.23126614]\n",
            "current state: [ 0.87146979  1.11683728 -0.21126614]\n",
            "current state: [ 0.96924641  1.09586748 -0.19126614]\n",
            "current state: [ 1.06742284  1.07685727 -0.17126614]\n",
            "current state: [ 1.16595982  1.05981426 -0.15126614]\n",
            "current state: [ 1.26481793  1.04474527 -0.13126614]\n"
          ]
        },
        {
          "output_type": "display_data",
          "data": {
            "text/plain": [
              "<Figure size 640x480 with 1 Axes>"
            ],
            "image/png": "[encoded data removed]"
          },
          "metadata": {}
        },
        {
          "output_type": "display_data",
          "data": {
            "text/plain": [
              "<Figure size 800x800 with 1 Axes>"
            ],
            "image/png": "[encoded data removed]"
          },
          "metadata": {}
        }
      ]
    },
    {
      "cell_type": "markdown",
      "source": [
        "## 1b) Implement a discrete-time unicycle kinematic model\n",
        "\n",
        "In lecture, we gave the continuous time kinematic model for a unicycle in the form of an ODE (i.e., $\\dot{x} = f(x, u)$). In this problem, you should use a simple first-order method (the Euler method) to solve this ODE at discrete timesteps from an initial state, $x[t+dt] = g(x[t], u[t], dt)$.\n",
        "\n",
        "You should also make sure that your `step` function clips the action so as to respect the control limits. As a hint, you can use `np.clip` and access the control limits with `self.action_space.low` and `self.action_space.high`.\n",
        "\n",
        "**Deliverables**:\n",
        "- Implement the `step` method of the `Unicycle` class below\n",
        "- Generate a plot of the path using your `plot_path` function from above"
      ],
      "metadata": {
        "id": "Yt1NCBYJ-0Aq"
      }
    },
    {
      "cell_type": "code",
      "source": [
        "from gym_neu_racing.motion_models.motion_model import MotionModel\n",
        "\n",
        "\n",
        "class Unicycle(MotionModel):\n",
        "    def __init__(self, v_min=0, v_max=1, w_min=-2*np.pi, w_max=2*np.pi):\n",
        "        self.action_space = spaces.Box(np.array([v_min, w_min]),\n",
        "                                       np.array([v_max, w_max]),\n",
        "                                       shape=(2,),\n",
        "                                       dtype=float)\n",
        "        super().__init__()\n",
        "\n",
        "    def step(self, current_state: np.ndarray, action: np.ndarray, dt: float = 0.1) -> np.ndarray:\n",
        "        # current_state = np.array([x, y, theta])\n",
        "        # action = np.array([vx, vw])\n",
        "        x,y,theta = current_state[0], current_state[1], current_state[2]\n",
        "        print(\"here\")\n",
        "        print(x,y)\n",
        "\n",
        "        vx,vw = np.clip(action, self.action_space.low, self.action_space.high)\n",
        "        print(\"values\")\n",
        "        print(vx,vw)\n",
        "\n",
        "        x_new = x + vx * np.cos(theta) * dt\n",
        "        y_new = y + vx * np.sin(theta) * dt\n",
        "        theta_new = theta + vw * dt\n",
        "\n",
        "\n",
        "\n",
        "        next_state = [x_new, y_new, theta_new]\n",
        "        return next_state\n"
      ],
      "metadata": {
        "id": "DjhEslk3997l"
      },
      "execution_count": 25,
      "outputs": []
    },
    {
      "cell_type": "markdown",
      "source": [
        "You can tell the simulator (`env`) to use your kinematic model by setting `env.motion_model = YourMotionModel()` (a small caveat is that we have some [wrappers](https://gymnasium.farama.org/api/wrappers/) around the simulator, so you should use the `unwrapped` attribute to directly modify attributes of the base simulator). The simulator will call your motion model's `step` method each timestep (i.e., `self.motion_model.step(self.state.copy(), action)`). To test your kinematic model, you can use the same general idea as before:"
      ],
      "metadata": {
        "id": "5xa45XIN_FUS"
      }
    },
    {
      "cell_type": "code",
      "source": [
        "# Tell the simulator to use your kinematic model from above\n",
        "env.unwrapped.motion_model = Unicycle()\n",
        "\n",
        "# Run the simulation (using the dummy_unicycle controller) and plot the path taken\n",
        "num_steps = 10\n",
        "observation_history = simulate_n_steps(env, num_steps, dummy_unicycle_controller)\n",
        "plot_path(env, observation_history)"
      ],
      "metadata": {
        "id": "CP09ZeZ--wyF",
        "colab": {
          "base_uri": "https://localhost:8080/",
          "height": 1000
        },
        "outputId": "c2d7ec8d-bb42-4b4f-ffe7-1aa38dd7519e"
      },
      "execution_count": 26,
      "outputs": [
        {
          "output_type": "stream",
          "name": "stdout",
          "text": [
            "initial state: [1.14126128 0.32003769 2.88221928]\n",
            "here\n",
            "1.0930365042680927 0.27077099534737625\n",
            "values\n",
            "1.0 0.2\n",
            "current state: [1.0374321  0.25588961 3.03805797]\n",
            "here\n",
            "0.9936064831781385 0.28143265122492417\n",
            "values\n",
            "1.0 0.2\n",
            "current state: [0.91972378 0.2604658  3.10129771]\n",
            "here\n",
            "0.8939831285272501 0.2901037069912843\n",
            "values\n",
            "1.0 0.2\n",
            "current state: [0.76278796 0.25725431 2.94139651]\n",
            "here\n",
            "0.7942062883289944 0.29678069433976256\n",
            "values\n",
            "1.0 0.2\n",
            "current state: [0.68007978 0.25192643 3.08471464]\n",
            "here\n",
            "0.6943158719891105 0.30146094256444494\n",
            "values\n",
            "1.0 0.2\n",
            "current state: [0.61077154 0.2943114  2.96909091]\n",
            "here\n",
            "0.5943518343422798 0.304142579628444\n",
            "values\n",
            "1.0 0.2\n",
            "current state: [0.45062305 0.28263618 3.02249814]\n",
            "here\n",
            "0.494354159670725 0.3048245329126888\n",
            "values\n",
            "1.0 0.2\n",
            "current state: [0.44087234 0.26862955 3.29695804]\n",
            "here\n",
            "0.3943628457110302 0.3035065296449583\n",
            "values\n",
            "1.0 0.2\n",
            "current state: [0.30302868 0.30711779 3.19960535]\n",
            "here\n",
            "0.2944178876555795 0.3001890970089864\n",
            "values\n",
            "1.0 0.2\n",
            "current state: [0.24173557 0.28125804 3.32993937]\n",
            "here\n",
            "0.1945592621550135 0.29487356193359565\n",
            "values\n",
            "1.0 0.2\n",
            "current state: [0.10035632 0.27712542 3.41695944]\n"
          ]
        },
        {
          "output_type": "display_data",
          "data": {
            "text/plain": [
              "<Figure size 640x480 with 1 Axes>"
            ],
            "image/png": "[encoded data removed]"
          },
          "metadata": {}
        },
        {
          "output_type": "display_data",
          "data": {
            "text/plain": [
              "<Figure size 800x800 with 1 Axes>"
            ],
            "image/png": "[encoded data removed]"
          },
          "metadata": {}
        }
      ]
    },
    {
      "cell_type": "markdown",
      "source": [
        "## 1c) Implement a discrete-time Simple Car kinematic model\n",
        "\n",
        "[Section 13.1.2 of Lavelle's book](https://lavalle.pl/planning/ch13.pdf) provides a good explanation of the Simple Car kinematics. In this part, you should implement a first-order discrete time approximation of this model.\n",
        "\n",
        "**Deliverables**:\n",
        "- Implement the `SimpleCar` class below"
      ],
      "metadata": {
        "id": "BNTz9Vafh1sZ"
      }
    },
    {
      "cell_type": "code",
      "source": [
        "from re import L\n",
        "class SimpleCar(MotionModel):\n",
        "    def __init__(self, L=1., v_min=-1, v_max=1, phi_min=-np.pi/4, phi_max=np.pi/4):\n",
        "        self.action_space = spaces.Box(np.array([v_min, phi_min]),\n",
        "                                 np.array([v_max, phi_max]),\n",
        "                                 shape=(2,),\n",
        "                                 dtype=float)\n",
        "        self.L = L\n",
        "        super().__init__()\n",
        "\n",
        "    def step(self, current_state: np.ndarray, action: np.ndarray, dt: float = 0.1) -> np.ndarray:\n",
        "        # current_state = np.array([x, y, theta])\n",
        "        # action = np.array([u_s, u_phi])\n",
        "\n",
        "        x,y,theta = current_state[0], current_state[1], current_state[2]\n",
        "        u_s,u_phi = np.clip(action, self.action_space.low, self.action_space.high)\n",
        "\n",
        "        x_new = x + (np.cos(theta) * u_s * dt)\n",
        "        # x_new = round(x_new, 6)\n",
        "        y_new = y + (np.sin(theta) * u_s * dt)\n",
        "        # y_new = round(y_new, 6)\n",
        "        theta_new = (u_s/L) * (np.tan(u_phi))\n",
        "        # theta_new = round(theta_new, 6)\n",
        "\n",
        "        next_state = [x_new, y_new, theta_new]\n",
        "\n",
        "        return next_state"
      ],
      "metadata": {
        "id": "7m459AjAOfmF"
      },
      "execution_count": 33,
      "outputs": []
    },
    {
      "cell_type": "code",
      "source": [
        "def dummy_car_controller(current_state: np.ndarray) -> np.ndarray:\n",
        "  return np.array([0.5, -0.1]) # [linear speed, steering angle]"
      ],
      "metadata": {
        "id": "o-r91GOBxNbg"
      },
      "execution_count": 34,
      "outputs": []
    },
    {
      "cell_type": "code",
      "source": [
        "# Tell the simulator to use your kinematic model from above\n",
        "env.unwrapped.motion_model = SimpleCar(L=0.5)\n",
        "\n",
        "# Run the simulation (using the dummy car controller) and plot the path taken\n",
        "num_steps = 10\n",
        "observation_history = simulate_n_steps(env, num_steps, dummy_car_controller)\n",
        "plot_path(env, observation_history)"
      ],
      "metadata": {
        "id": "Q6KjLQJ2PnIy",
        "colab": {
          "base_uri": "https://localhost:8080/",
          "height": 1000
        },
        "outputId": "645fc6f7-9266-4c76-8f75-dc187307c60a"
      },
      "execution_count": 35,
      "outputs": [
        {
          "output_type": "stream",
          "name": "stdout",
          "text": [
            "initial state: [ 1.91986749 -0.37138639  1.05328662]\n",
            "current state: [ 1.9287479  -0.37789944 -0.10931815]\n",
            "current state: [ 2.00822369 -0.33533823  0.16717013]\n",
            "current state: [ 2.07439646 -0.32816492 -0.14497139]\n",
            "current state: [ 2.09239005 -0.36553326  0.06201026]\n",
            "current state: [ 2.13456906 -0.37720916 -0.07018617]\n",
            "current state: [ 2.23600613 -0.35040642 -0.18243092]\n",
            "current state: [ 2.2127966  -0.37166381  0.09409459]\n",
            "current state: [ 2.3238364  -0.33862134  0.09434219]\n",
            "current state: [ 2.3336794  -0.35522103  0.00479922]\n",
            "current state: [ 2.42892345 -0.31498667 -0.10134586]\n"
          ]
        },
        {
          "output_type": "display_data",
          "data": {
            "text/plain": [
              "<Figure size 640x480 with 1 Axes>"
            ],
            "image/png": "[encoded data removed]"
          },
          "metadata": {}
        },
        {
          "output_type": "display_data",
          "data": {
            "text/plain": [
              "<Figure size 800x800 with 1 Axes>"
            ],
            "image/png": "[encoded data removed]"
          },
          "metadata": {}
        }
      ]
    },
    {
      "cell_type": "markdown",
      "source": [
        "# Problem 2: Controlling the Robot to Reach a Goal Coordinate"
      ],
      "metadata": {
        "id": "HtK4LxIniB-2"
      }
    },
    {
      "cell_type": "markdown",
      "source": [
        "## 2a) Open-Loop Control"
      ],
      "metadata": {
        "id": "5DOe2C7JhJcP"
      }
    },
    {
      "cell_type": "markdown",
      "source": [
        "Using the `Unicycle` model you implemented above, you will now command the system to reach a goal position. Start with open-loop control, i.e., measure the intial state (returned by `env.reset`) and then calculate a sequence of actions to apply.\n",
        "\n",
        "After that sequence is computed, run the simulator forward for several steps, and at each step, simply grab the corresponding control value from that pre-computed sequence. You can use this example `open_loop_control_policy` implementation as a first try.\n",
        "\n",
        "Your job is to implement a smarter `open_loop_control_policy` that gets the system to reach (close) to the goal.\n",
        "\n",
        "Remember: you are only provided with the initial state, goal position, and the maximum number of steps allowed -- you can't access the system's state once it has started moving! That would be closed-loop control, which we'll implement next :)\n",
        "\n",
        "**Deliverables**:\n",
        "- Implement the `open_loop_control_policy`, which should produce a sequence of control commands that will lead to the goal. This can be a very simple hard-coded policy (e.g., always send the same v, w)\n",
        "- Generate 1 plot that shows your open-loop controller drives the noise-free system to the goal (it only has to work for 1 test case). Include the path taken and the start/goal coordinates in your plot.\n",
        "- Generate 1 plot that shows your open-loop controller running on the noisy system (it's ok if it doesn't work on this system). Include the path taken and the start/goal coordinates in your plot."
      ],
      "metadata": {
        "id": "pLlKpzZKzG37"
      }
    },
    {
      "cell_type": "code",
      "source": [
        "def open_loop_control_policy(init_state: np.ndarray, goal: np.ndarray, num_steps: int = 10) -> list[np.ndarray]:\n",
        "\n",
        "    x, y, theta = init_state\n",
        "    x_goal, y_goal = goal[0], goal[1]\n",
        "    distance = np.sqrt((x_goal - x)**2 + (y_goal - y)**2)\n",
        "    angle_to_goal = np.arctan2(y_goal - y, x_goal - x)\n",
        "\n",
        "    control_sequence = []\n",
        "\n",
        "    for _ in range(num_steps):\n",
        "        v = 1.0\n",
        "        t = (distance/num_steps)/v\n",
        "\n",
        "        omega = ((angle_to_goal - theta) / num_steps)/t\n",
        "        control_sequence.append(np.array([v, omega]))\n",
        "\n",
        "    return control_sequence"
      ],
      "metadata": {
        "id": "aOWwHTVJaJ88"
      },
      "execution_count": 16,
      "outputs": []
    },
    {
      "cell_type": "code",
      "source": [
        "np.random.seed(0)\n",
        "max_num_steps = 200\n",
        "\n",
        "env.unwrapped.motion_model = Unicycle()\n",
        "obs, _ = env.reset() # initial observation of the system's state vector\n",
        "observation_history = [obs]\n",
        "\n",
        "# query your open loop controller based on the initial state of the system\n",
        "control_sequence = open_loop_control_policy(obs, env.unwrapped.goal, num_steps=max_num_steps)\n",
        "\n",
        "# Now that we've computed the control sequence, run the system forward until\n",
        "# we reach max_num_steps or the system's state is close to the goal\n",
        "for step in range(max_num_steps):\n",
        "  action = control_sequence[step]\n",
        "  obs, _, terminated, _, _ = env.step(action)\n",
        "  observation_history.append(obs)\n",
        "  if terminated:\n",
        "    break\n",
        "\n",
        "# Generate a simple plot of the path taken\n",
        "plot_path(env, observation_history)\n",
        "\n",
        "if terminated:\n",
        "  print('Success! Your open-loop controller drove the system to the goal.')\n",
        "else:\n",
        "  print('Your open-loop controller did not successfully drive the system to the goal.')"
      ],
      "metadata": {
        "id": "GtxCyNUiZtaN",
        "colab": {
          "base_uri": "https://localhost:8080/",
          "height": 1000
        },
        "outputId": "5bc596d9-cfc5-4515-d222-c80c6cea2956"
      },
      "execution_count": 17,
      "outputs": [
        {
          "output_type": "stream",
          "name": "stdout",
          "text": [
            "here\n",
            "0.4110535042865755 0.17953273198758746\n",
            "here\n",
            "0.4997672593186573 0.1333822209599966\n",
            "here\n",
            "0.5905087394919403 0.09135861121545316\n",
            "here\n",
            "0.6830860902450869 0.05355075320248372\n",
            "here\n",
            "0.7773035754386313 0.02003858401270657\n",
            "here\n",
            "0.8729619911995747 -0.009107041630028748\n",
            "here\n",
            "0.9698590870978052 -0.03382450117766683\n",
            "here\n",
            "1.0677899937638464 -0.054061534546397755\n",
            "here\n",
            "1.1665476560438268 -0.06977535461006579\n",
            "here\n",
            "1.2659232707758488 -0.0809327376649194\n",
            "here\n",
            "1.3657067282621682 -0.0875100936744331\n",
            "here\n",
            "1.4656870565037805 -0.08949351614568264\n",
            "here\n",
            "1.565652867258169 -0.08687881153181995\n",
            "here\n",
            "1.6653928029771168 -0.07967150809848234\n",
            "here\n",
            "1.7646959836796197 -0.06788684423538958\n",
            "here\n",
            "1.8633524528150822 -0.05154973623784177\n",
            "here\n",
            "1.9611536211741047 -0.030694725626237398\n",
            "here\n",
            "2.057892707908304 -0.005365906114993935\n",
            "here\n",
            "2.153365177726717 0.02438316961471955\n",
            "here\n",
            "2.2473691733444303 0.05848960314132757\n",
            "here\n",
            "2.3397059422691022 0.09688128328887682\n",
            "here\n",
            "2.4301802570230286 0.1394770385915762\n",
            "here\n",
            "2.518600827912276 0.18618680891449252\n",
            "here\n",
            "2.604780707470164 0.23691183586754475\n",
            "here\n",
            "2.6885376857199867 0.2915448716102047\n",
            "here\n",
            "2.7696946754212624 0.34997040560542875\n",
            "here\n",
            "2.848080086484994 0.41206490884339514\n",
            "here\n",
            "2.923528188766311 0.4776970950186849\n",
            "here\n",
            "2.9958794624674403 0.5467281981087002\n",
            "here\n",
            "3.0649809354101487 0.6190122657664362\n",
            "here\n",
            "3.1306865064645684 0.6943964679072867\n",
            "here\n",
            "3.192857254450573 0.7727214198374391\n",
            "here\n",
            "3.2513617318585992 0.8538215192406688\n",
            "here\n",
            "3.3060762427688983 0.9375252963110423\n",
            "here\n",
            "3.356885104381614 1.0236557762912437\n",
            "here\n",
            "3.4036808916047367 1.1120308536500116\n",
            "here\n",
            "3.4463646641827954 1.2024636771075625\n",
            "here\n",
            "3.484846175886077 1.294763044694942\n",
            "here\n",
            "3.5190440653180812 1.3887338080120315\n",
            "here\n",
            "3.548886027937785 1.4841772848294872\n",
            "here\n",
            "3.5743089689330154 1.5808916791622494\n",
            "here\n",
            "3.595259136621705 1.6786725079264595\n",
            "here\n",
            "3.6116922360989863 1.7773130332777054\n",
            "here\n",
            "3.623573522889834 1.876604699716504\n",
            "here\n",
            "3.6308778764092517 1.9763375750368484\n",
            "here\n",
            "3.633589853074683 2.076300794185524\n",
            "here\n",
            "3.6317037189583536 2.176283005093741\n",
            "here\n",
            "3.6252234619105033 2.2760728155384644\n",
            "here\n",
            "3.6141627831278824 2.37545924008864\n",
            "here\n",
            "3.598545068185334 2.4742321461913424\n",
            "here\n",
            "3.578403337591711 2.5721826984546854\n",
            "here\n",
            "3.553780176974669 2.6691038001881435\n",
            "here\n",
            "3.5247276470419453 2.764790531266743\n",
            "here\n",
            "3.4913071735094903 2.859040581393342\n",
            "here\n",
            "3.4535894172291766 2.9516546778429587\n",
            "here\n",
            "3.411654124790678 3.042437006784761\n",
            "here\n",
            "3.365589959913388 3.131195627290928\n",
            "here\n",
            "3.315494315984861 3.2177428771570344\n",
            "here\n",
            "3.2614731101421395 3.301895769675939\n",
            "here\n",
            "3.2036405593313217 3.3834763805262766\n",
            "here\n",
            "3.1421189388188644 3.462312223957556\n",
            "here\n",
            "3.0770383236651884 3.5382366174764974\n",
            "here\n",
            "3.008536313707193 3.6110890342635518\n",
            "here\n",
            "2.93675774263115 3.6807154425744897\n",
            "here\n",
            "2.8618543717510794 3.746968631409463\n",
            "here\n",
            "2.7839845691400553 3.8097085217609776\n",
            "here\n",
            "2.70331297479285 3.8688024627827096\n",
            "here\n",
            "2.6200101525278665 3.9241255122529672\n",
            "here\n",
            "2.534252229364339 3.9755607007398246\n",
            "here\n",
            "2.446220523137268 4.022999278909397\n",
            "here\n",
            "2.356101159137422 4.066340947454382\n",
            "here\n",
            "2.264084676586943 4.105494069156711\n",
            "here\n",
            "2.170365625782584 4.140375862635974\n",
            "here\n",
            "2.0751421567583392 4.1709125773739535\n",
            "here\n",
            "1.9786156003371558 4.197039649645222\n",
            "here\n",
            "1.8809900424575068 4.218701839024122\n",
            "here\n",
            "1.7824718926748302 4.235853345179504\n",
            "here\n",
            "1.6832694477501469 4.248457904710293\n",
            "here\n",
            "1.583592451248564 4.256488867817134\n",
            "here\n",
            "1.4836516500788022 4.259929254648024\n"
          ]
        },
        {
          "output_type": "display_data",
          "data": {
            "text/plain": [
              "<Figure size 640x480 with 1 Axes>"
            ],
            "image/png": "[encoded data removed]"
          },
          "metadata": {}
        },
        {
          "output_type": "display_data",
          "data": {
            "text/plain": [
              "<Figure size 800x800 with 1 Axes>"
            ],
            "image/png": "[encoded data removed]"
          },
          "metadata": {}
        },
        {
          "output_type": "stream",
          "name": "stdout",
          "text": [
            "Success! Your open-loop controller drove the system to the goal.\n"
          ]
        }
      ]
    },
    {
      "cell_type": "code",
      "source": [],
      "metadata": {
        "id": "-xrfbFBeIhhR"
      },
      "execution_count": null,
      "outputs": []
    },
    {
      "cell_type": "markdown",
      "source": [
        "Now, let's see what happens if we try that same `control_sequence` on a version of the environment where the wheels are a little bit slippery, so our simple unicycle model does not describe the true system perfectly.\n",
        "\n"
      ],
      "metadata": {
        "id": "ABmKxZnoZuFr"
      }
    },
    {
      "cell_type": "code",
      "source": [
        "class NoisyUnicycle(Unicycle):\n",
        "  \"\"\"Same as Unicycle but add process noise at each step.\"\"\"\n",
        "  def __init__(self, process_noise_limits=np.array([0.1, 0.1, 0.5]), v_min=0, v_max=1, w_min=-2*np.pi, w_max=2*np.pi):\n",
        "    self.process_noise_limits = process_noise_limits\n",
        "    super().__init__(v_min=v_min, v_max=v_max, w_min=w_min, w_max=w_max)\n",
        "\n",
        "  def step(self, current_state, action, dt=0.1) -> np.ndarray:\n",
        "\n",
        "    \"\"\"Add process noise to the parent kinematics model.\"\"\"\n",
        "    next_state = super().step(current_state, action, dt=dt)\n",
        "    perturbed_next_state = next_state + np.random.uniform(low=-self.process_noise_limits, high=self.process_noise_limits)\n",
        "\n",
        "    return perturbed_next_state"
      ],
      "metadata": {
        "id": "v6RqTRHb9Aq1"
      },
      "execution_count": 20,
      "outputs": []
    },
    {
      "cell_type": "markdown",
      "source": [
        "This class we wrote for you will make it so you can't perfectly measure the system's state. It adds random noise to the `obs` that the `env` returns at each step:"
      ],
      "metadata": {
        "id": "CfshG9oH3X9i"
      }
    },
    {
      "cell_type": "code",
      "source": [
        "from gymnasium import ObservationWrapper\n",
        "\n",
        "class NoisyStateFeedbackWrapper(ObservationWrapper):\n",
        "  def __init__(self, env, sensor_noise_limits=np.array([0.05, 0.05, 0.2])):\n",
        "    self.sensor_noise_limits = sensor_noise_limits\n",
        "    super().__init__(env)\n",
        "\n",
        "  def observation(self, observation: dict) -> np.ndarray:\n",
        "    obs = observation[\"state\"] + np.random.uniform(low=-self.sensor_noise_limits, high=self.sensor_noise_limits)\n",
        "    return obs"
      ],
      "metadata": {
        "id": "JAkFDyhA2fkj"
      },
      "execution_count": 21,
      "outputs": []
    },
    {
      "cell_type": "markdown",
      "source": [
        "Now, run your open loop controller on a Unicycle with both process & sensor noise. Your open-loop control sequence probably does not drive the system to the goal anymore. This is to be expected! It's like trying to park a car in a parking spot with your eyes closed. We will implement a much smarter strategy next."
      ],
      "metadata": {
        "id": "87P0OMUo5I6-"
      }
    },
    {
      "cell_type": "code",
      "source": [
        "np.random.seed(0)\n",
        "max_num_steps = 200\n",
        "\n",
        "env = gymnasium.make(\"gym_neu_racing/NEUEmptyWorld-v0\")\n",
        "\n",
        "# Add both sensor noise & process noise to make the problem more challenging\n",
        "env = NoisyStateFeedbackWrapper(env)\n",
        "env.unwrapped.motion_model = NoisyUnicycle()\n",
        "\n",
        "obs, _ = env.reset() # initial observation of the system's state vector\n",
        "observation_history = [obs]\n",
        "\n",
        "# query your open loop controller based on the initial state of the system\n",
        "control_sequence = open_loop_control_policy(obs, env.unwrapped.goal, num_steps=max_num_steps)\n",
        "\n",
        "# Now that we've computed the control sequence, run the system forward until\n",
        "# we reach max_num_steps or the system's state is close to the goal\n",
        "for step in range(max_num_steps):\n",
        "  action = control_sequence[step]\n",
        "  obs, _, terminated, _, _ = env.step(action)\n",
        "  observation_history.append(obs)\n",
        "  if terminated:\n",
        "    break\n",
        "\n",
        "# Generate a simple plot of the path taken\n",
        "plot_path(env, observation_history)\n",
        "\n",
        "if terminated:\n",
        "  print('Success! Your open-loop controller drove the system to the goal.')\n",
        "else:\n",
        "  print('Your open-loop controller did not successfully drive the system to the goal.')"
      ],
      "metadata": {
        "id": "MNc1Qpr3acFS",
        "colab": {
          "base_uri": "https://localhost:8080/",
          "height": 1000
        },
        "outputId": "986e81c1-5369-42f6-da61-69d256044cf9"
      },
      "execution_count": 22,
      "outputs": [
        {
          "output_type": "stream",
          "name": "stdout",
          "text": [
            "here\n",
            "0.4110535042865755 0.17953273198758746\n",
            "here\n",
            "0.5924998114188631 0.11007052472515215\n",
            "here\n",
            "0.6056474792012927 0.012977908910603894\n",
            "here\n",
            "0.7848407904218462 0.01773858821379508\n",
            "here\n",
            "0.7971867820904697 0.05191437267629824\n",
            "here\n",
            "0.8754286437086508 0.016316808944617935\n",
            "here\n",
            "1.0219963749125043 -0.028909973367373692\n",
            "here\n",
            "1.104887689652809 -0.08165005375009307\n",
            "here\n",
            "1.1456889160532018 -0.19028224033579133\n",
            "here\n",
            "1.248154851399148 -0.3091825341889124\n",
            "here\n",
            "1.3518589988219987 -0.4504857938072522\n",
            "here\n",
            "1.471630283885245 -0.616571488347484\n",
            "here\n",
            "1.6070929871240924 -0.7569468961497253\n",
            "here\n",
            "1.6485718283668176 -0.8368187907692637\n",
            "here\n",
            "1.701093722523811 -1.0058272971851938\n",
            "here\n",
            "1.6853460047459299 -1.0440997871594624\n",
            "here\n",
            "1.7945481219634472 -1.233245179673296\n",
            "here\n",
            "1.8063320723673797 -1.296447551143284\n",
            "here\n",
            "1.8677344777713238 -1.296586735773457\n",
            "here\n",
            "2.0304586746885627 -1.3305032140627062\n",
            "here\n",
            "2.2211599873044245 -1.3118450565546669\n",
            "here\n",
            "2.3522787337270805 -1.3673333579225715\n",
            "here\n",
            "2.4662408917904264 -1.3466760923874865\n",
            "here\n",
            "2.644551878269576 -1.359068688400975\n",
            "here\n",
            "2.663883467021631 -1.2632453786681948\n",
            "here\n",
            "2.689393936987662 -1.2034075946158658\n",
            "here\n",
            "2.770741793895751 -1.2853608095311815\n",
            "here\n",
            "2.961900587457494 -1.1863876535907851\n",
            "here\n",
            "3.0647632090408043 -1.291864220457539\n",
            "here\n",
            "3.1250641699571164 -1.2471988238165286\n",
            "here\n",
            "3.2389784528216503 -1.3170541827530227\n",
            "here\n",
            "3.380499623149929 -1.3249941879816876\n",
            "here\n",
            "3.5255022405560608 -1.3029638690216208\n",
            "here\n",
            "3.5878549031685925 -1.2625538059233385\n",
            "here\n",
            "3.7234984716958768 -1.2786658613884647\n",
            "here\n",
            "3.8561088309612437 -1.3249736491885886\n",
            "here\n",
            "3.9648015483993246 -1.3001604253993118\n",
            "here\n",
            "3.998681001507078 -1.2348805307280142\n",
            "here\n",
            "4.0494360435921415 -1.2947980923862437\n",
            "here\n",
            "4.124209964024664 -1.2986172438481332\n",
            "here\n",
            "4.22663000276596 -1.3866964435887583\n",
            "here\n",
            "4.254954029963627 -1.377741103886421\n",
            "here\n",
            "4.43569129098783 -1.459900182501668\n",
            "here\n",
            "4.483295525524755 -1.5292589093262439\n",
            "here\n",
            "4.5340733453060835 -1.5448803015550496\n",
            "here\n",
            "4.576285286225351 -1.5191830939247781\n",
            "here\n",
            "4.66012830343245 -1.5259621427553751\n",
            "here\n",
            "4.673160836261067 -1.6863355010486853\n",
            "here\n",
            "4.729652849900225 -1.8150650187646522\n",
            "here\n",
            "4.746558095947497 -1.7655534493357345\n",
            "here\n",
            "4.809185256532075 -1.8213267613189141\n",
            "here\n",
            "4.951593425832227 -1.8959156821483911\n",
            "here\n",
            "5.0714526447705826 -1.8948965373846693\n",
            "here\n",
            "5.11284041929715 -1.9198677035589107\n",
            "here\n",
            "5.2489283886896905 -1.8700966489463196\n",
            "here\n",
            "5.260069919864212 -1.8374473709742185\n",
            "here\n",
            "5.374396195653519 -1.8578124731095884\n",
            "here\n",
            "5.532971999806681 -1.92584527251569\n",
            "here\n",
            "5.65950646410248 -1.9962059366170282\n",
            "here\n",
            "5.713026418557087 -2.0505376943162474\n",
            "here\n",
            "5.820874510236859 -2.045672609144241\n",
            "here\n",
            "5.986432922477832 -1.9545873211553593\n",
            "here\n",
            "6.004004567814659 -1.9506439782194913\n",
            "here\n",
            "6.117300031176985 -1.868332024651652\n",
            "here\n",
            "6.174065232214464 -1.8366502845508466\n",
            "here\n",
            "6.10255636676792 -1.6695819503608293\n",
            "here\n",
            "6.024690886122015 -1.6343317803099733\n",
            "here\n",
            "6.122970357726587 -1.5465171916951879\n",
            "here\n",
            "6.062935828494572 -1.4677929964432614\n",
            "here\n",
            "6.058544195103151 -1.4933856690437477\n",
            "here\n",
            "6.129891161399023 -1.516260770532538\n",
            "here\n",
            "6.266593151919398 -1.4986546119145676\n",
            "here\n",
            "6.361106411039471 -1.4724893329459237\n",
            "here\n",
            "6.419836936553797 -1.3567906533536913\n",
            "here\n",
            "6.537661223615068 -1.1760648460069911\n",
            "here\n",
            "6.494450125308629 -1.1551222876235856\n",
            "here\n",
            "6.499440511022573 -0.9876379167035877\n",
            "here\n",
            "6.4233465077903125 -0.9561054751584961\n",
            "here\n",
            "6.40099002592937 -0.7702306975487245\n",
            "here\n",
            "6.401352470465313 -0.5847920922130534\n",
            "here\n",
            "6.250872987898542 -0.5425834137440431\n",
            "here\n",
            "6.286584018093855 -0.4516367087337333\n",
            "here\n",
            "6.254953631748989 -0.4065750669418925\n",
            "here\n",
            "6.17519159879319 -0.34114097720492587\n",
            "here\n",
            "6.199809325960536 -0.34359197343379855\n",
            "here\n",
            "6.218773147804175 -0.2118033036067603\n",
            "here\n",
            "6.2096752759098015 -0.046327116851261965\n",
            "here\n",
            "6.059375761269086 0.013700485206545668\n",
            "here\n",
            "5.9062808808787 0.06371455797005639\n",
            "here\n",
            "5.85118896608972 0.1736694387988164\n",
            "here\n",
            "5.7872866863709636 0.24570582613612274\n",
            "here\n",
            "5.6894849215824825 0.21937652534428914\n",
            "here\n",
            "5.631747987243983 0.11143273351295278\n",
            "here\n",
            "5.555572041926541 0.03469563315535551\n",
            "here\n",
            "5.478971492610205 0.06648015595568588\n",
            "here\n",
            "5.354087259391639 -0.03581367918290192\n",
            "here\n",
            "5.328711453955264 -0.05315893285480622\n",
            "here\n",
            "5.324996226807302 -0.1939583283730616\n",
            "here\n",
            "5.297013004217968 -0.17938490262525708\n",
            "here\n",
            "5.20910352396513 -0.26499346204650553\n",
            "here\n",
            "5.178684903402364 -0.42704664243146595\n",
            "here\n",
            "5.126967351657627 -0.5372265406178081\n",
            "here\n",
            "4.991606406869912 -0.6522472490493377\n",
            "here\n",
            "4.918872181656173 -0.6981949815488296\n",
            "here\n",
            "4.945507397039286 -0.7550310872107038\n",
            "here\n",
            "4.894117934969174 -0.8431936960042783\n",
            "here\n",
            "4.9047853517812285 -0.8938493552335425\n",
            "here\n",
            "4.912084668558917 -1.059285223450669\n",
            "here\n",
            "4.963467997356128 -1.1285899687394938\n",
            "here\n",
            "4.989869800043737 -1.3000706994784021\n",
            "here\n",
            "4.945546646058232 -1.4404895790148469\n",
            "here\n",
            "5.015362822617391 -1.5089205984523586\n",
            "here\n",
            "5.1012251010639185 -1.5759239079080765\n",
            "here\n",
            "5.128839381130051 -1.7002255863059759\n",
            "here\n",
            "5.175109724539337 -1.7731098893416257\n",
            "here\n",
            "5.235017277059097 -1.8771082694693395\n",
            "here\n",
            "5.297088572892908 -1.8896985104204058\n",
            "here\n",
            "5.292750506758257 -2.055485113860703\n",
            "here\n",
            "5.259177214696755 -2.1375902160449183\n",
            "here\n",
            "5.307296212313568 -2.21077882347441\n",
            "here\n",
            "5.265727801696301 -2.216663601763253\n",
            "here\n",
            "5.364577043584075 -2.332025177311782\n",
            "here\n",
            "5.414543265497624 -2.381829306557792\n",
            "here\n",
            "5.358395705607393 -2.381546531945295\n",
            "here\n",
            "5.424619678396399 -2.437105510567814\n",
            "here\n",
            "5.550362392840998 -2.5247873401771463\n",
            "here\n",
            "5.52137098903449 -2.6588082929162242\n",
            "here\n",
            "5.655401971549223 -2.6513389880396545\n",
            "here\n",
            "5.781881491129656 -2.743063618594679\n",
            "here\n",
            "5.851470651148585 -2.805620971850915\n",
            "here\n",
            "6.01431597724014 -2.7753661803667975\n",
            "here\n",
            "6.076031307715892 -2.917908327407262\n",
            "here\n",
            "6.254586491405911 -2.886605150609197\n",
            "here\n",
            "6.242144607389925 -2.9192469414130495\n",
            "here\n",
            "6.409480310775908 -3.0132995968540035\n",
            "here\n",
            "6.4638222865362485 -2.96416903408585\n",
            "here\n",
            "6.5950772934363835 -3.015724145163277\n",
            "here\n",
            "6.620604085502588 -2.9836952688795226\n",
            "here\n",
            "6.710105397940454 -3.1335495913817826\n",
            "here\n",
            "6.87843624817194 -3.2757755995162188\n",
            "here\n",
            "6.875530597083952 -3.2777046017755573\n",
            "here\n",
            "6.926883696201011 -3.3388002934486436\n",
            "here\n",
            "7.107266020169906 -3.3230045216279316\n",
            "here\n",
            "7.280108163545181 -3.290339995704546\n",
            "here\n",
            "7.284736320902598 -3.405023389371333\n",
            "here\n",
            "7.386628147011838 -3.469883099642351\n",
            "here\n",
            "7.559793842284148 -3.466767272582371\n",
            "here\n",
            "7.717344935335127 -3.5154946912320026\n",
            "here\n",
            "7.804687519600758 -3.504666664602611\n",
            "here\n",
            "7.977246023586305 -3.4665021777422123\n",
            "here\n",
            "8.019290634106 -3.547610624624324\n",
            "here\n",
            "8.042668830215925 -3.577500748162289\n",
            "here\n",
            "8.175095603397024 -3.483999705571813\n",
            "here\n",
            "8.273244825238944 -3.4060156839291973\n",
            "here\n",
            "8.382991204726462 -3.421997309158591\n",
            "here\n",
            "8.387381185646568 -3.409460191000203\n",
            "here\n",
            "8.389550990680025 -3.2534339304278572\n",
            "here\n",
            "8.432009303430577 -3.213942194380536\n",
            "here\n",
            "8.4168625637093 -3.0281147385993807\n",
            "here\n",
            "8.47891453932586 -2.948587986887736\n",
            "here\n",
            "8.433189761381254 -2.862044161308497\n",
            "here\n",
            "8.39149962154443 -2.6966431883844044\n",
            "here\n",
            "8.509737668973722 -2.6588755994783893\n",
            "here\n",
            "8.604723480322248 -2.4983907013657243\n",
            "here\n",
            "8.66359898611135 -2.3328650540086437\n",
            "here\n",
            "8.617933743395414 -2.231847682019135\n",
            "here\n",
            "8.544305342337227 -2.0983109468634202\n",
            "here\n",
            "8.420700525825804 -1.9278009089370287\n",
            "here\n",
            "8.39893289103746 -1.9139032234477205\n",
            "here\n",
            "8.374795594277233 -1.8676242113578068\n",
            "here\n",
            "8.368146980995895 -1.684082770117334\n",
            "here\n",
            "8.404932812139144 -1.6800510044536092\n",
            "here\n",
            "8.38536665823588 -1.6327551968402163\n",
            "here\n",
            "8.267203779121356 -1.5808918323210828\n",
            "here\n",
            "8.236879061410402 -1.430810391475127\n",
            "here\n",
            "8.171492169784289 -1.4012362732151944\n",
            "here\n",
            "8.128459125015894 -1.3387007411631884\n",
            "here\n",
            "8.034796629848145 -1.393725136995119\n",
            "here\n",
            "7.858044771770451 -1.2414483012590165\n",
            "here\n",
            "7.746734550601129 -1.0697925312927965\n",
            "here\n",
            "7.597893159988266 -0.9125602903231498\n",
            "here\n",
            "7.584670070387198 -0.8792365383251936\n",
            "here\n",
            "7.4122889034199355 -0.7892766231669588\n",
            "here\n",
            "7.304156196771185 -0.6294746775618113\n",
            "here\n",
            "7.255964011071719 -0.6308372150995192\n",
            "here\n",
            "7.17427705368452 -0.6134501503715968\n",
            "here\n",
            "7.203676705797809 -0.4646674841782945\n",
            "here\n",
            "7.170131221254476 -0.2848533773448203\n",
            "here\n",
            "6.978466767386159 -0.30606142044505075\n",
            "here\n",
            "6.968507567845375 -0.2700994246298775\n",
            "here\n",
            "6.812797488798019 -0.23031161352307547\n",
            "here\n",
            "6.690124145526521 -0.15140711178110247\n",
            "here\n",
            "6.681870862387372 0.012744286132548424\n",
            "here\n",
            "6.674730034102637 0.025862326152475648\n",
            "here\n",
            "6.638127760975848 0.09666924866488481\n",
            "here\n",
            "6.555824254095031 0.1748844951999854\n",
            "here\n",
            "6.545526058676888 0.11443319212543755\n",
            "here\n",
            "6.386272448426765 0.07418994276482974\n",
            "here\n",
            "6.3568964346139625 0.11874289032785663\n",
            "here\n",
            "6.29264540891726 0.055674630445238106\n"
          ]
        },
        {
          "output_type": "display_data",
          "data": {
            "text/plain": [
              "<Figure size 640x480 with 1 Axes>"
            ],
            "image/png": "[encoded data removed]"
          },
          "metadata": {}
        },
        {
          "output_type": "display_data",
          "data": {
            "text/plain": [
              "<Figure size 800x800 with 1 Axes>"
            ],
            "image/png": "[encoded data removed]"
          },
          "metadata": {}
        },
        {
          "output_type": "stream",
          "name": "stdout",
          "text": [
            "Your open-loop controller did not successfully drive the system to the goal.\n"
          ]
        }
      ]
    },
    {
      "cell_type": "markdown",
      "source": [
        "## 2b) Closed-Loop Control: Pure Pursuit Algorithm"
      ],
      "metadata": {
        "id": "vd22chkdhTSF"
      }
    },
    {
      "cell_type": "markdown",
      "source": [
        "One of the most powerful ideas in robotic control is *feedback*. In this next part, we will implement a controller that measures the system's state at each step and uses that measurement to compute an action. This way, if the system ended up in a slightly different state than was expected from the simple model, the measurement will contain information about this discrepancy. Feedback control is often a great way to compensate for imperfect knowledge of the system you are working with.\n",
        "\n",
        "Your job is to implement the `PurePursuitController` class with a `get_action` method that takes in the current `obs` and the `env.unwrapped.goal` coordinate (expressed in the global frame), and outputs one `action` = $[v, \\omega]$. This `get_action` method will be called at each step, so there is no need to calculate a whole sequence of actions. The controller that you implement should be capable of driving the system to the goal."
      ],
      "metadata": {
        "id": "Fw8uqB1YzJwm"
      }
    },
    {
      "cell_type": "code",
      "source": [
        "class PurePursuitController:\n",
        "  def __init__(self, L=3.):\n",
        "    \"\"\"Store any hyperparameters here.\"\"\"\n",
        "    self.L = L\n",
        "\n",
        "  def get_action(self, obs: np.ndarray, goal: np.ndarray) -> np.ndarray:\n",
        "\n",
        "    \"\"\"Your implementation goes here\"\"\"\n",
        "    raise NotImplementedError()\n",
        "\n",
        "    return np.array([linear_speed, angular_speed])"
      ],
      "metadata": {
        "id": "IvqtrX06bnfB"
      },
      "execution_count": null,
      "outputs": []
    },
    {
      "cell_type": "markdown",
      "source": [
        "This `validation` function may come in handy for debugging/testing your controller in some random scenarios"
      ],
      "metadata": {
        "id": "U5zSc7FnpifI"
      }
    },
    {
      "cell_type": "code",
      "source": [
        "def validation(controller, motion_model=Unicycle, sensor_model=StateFeedbackWrapper, plot=False, num_runs=100, max_num_steps_per_run=200):\n",
        "  success_per_run = np.empty((num_runs,), dtype=bool)\n",
        "  num_steps_per_run = np.empty((num_runs,))\n",
        "  for i in range(num_runs):\n",
        "    np.random.seed(i)\n",
        "    env = gymnasium.make(\"gym_neu_racing/NEUEmptyWorld-v0\")\n",
        "\n",
        "    env = sensor_model(env)\n",
        "    env.unwrapped.motion_model = motion_model()\n",
        "\n",
        "    obs, _ = env.reset()\n",
        "    observation_history = [obs]\n",
        "    for step in range(max_num_steps_per_run):\n",
        "      action = controller.get_action(obs, env.unwrapped.goal)\n",
        "      obs, _, terminated, _, _ = env.step(action)\n",
        "      observation_history.append(obs)\n",
        "      if terminated:\n",
        "        break\n",
        "\n",
        "    success_per_run[i] = terminated\n",
        "    num_steps_per_run[i] = step\n",
        "    if plot: plot_path(env, observation_history)\n",
        "\n",
        "  avg_success = np.mean(success_per_run)\n",
        "  avg_steps = np.mean(num_steps_per_run)\n",
        "  return avg_success, avg_steps"
      ],
      "metadata": {
        "id": "xrzoKrQtawn3"
      },
      "execution_count": null,
      "outputs": []
    },
    {
      "cell_type": "markdown",
      "source": [
        "For example, you can run your controller on 3 random cases and plot the resulting paths:"
      ],
      "metadata": {
        "id": "l1pWen-Rprg8"
      }
    },
    {
      "cell_type": "code",
      "source": [
        "pure_pursuit_controller = PurePursuitController(L=3.)\n",
        "validation(controller=pure_pursuit_controller, num_runs=3, plot=True)"
      ],
      "metadata": {
        "id": "tBrAz03NgMS0"
      },
      "execution_count": null,
      "outputs": []
    },
    {
      "cell_type": "markdown",
      "source": [
        "Once you're happy with your controller, you can run it against a larger validation test suite. This function will return the success rate (between 0 and 1) and average number of steps it takes your system to reach the goal."
      ],
      "metadata": {
        "id": "jinhElEOpKKv"
      }
    },
    {
      "cell_type": "code",
      "source": [
        "pure_pursuit_controller = PurePursuitController()\n",
        "avg_success, avg_steps = validation(controller=pure_pursuit_controller)\n",
        "print(\"Success rate:\", avg_success)\n",
        "print(\"Avg. Number of Steps:\", avg_steps)"
      ],
      "metadata": {
        "id": "Fec5qApopJHp"
      },
      "execution_count": null,
      "outputs": []
    },
    {
      "cell_type": "markdown",
      "source": [
        "Now we have a closed-loop controller that will drive the system to the goal.\n",
        "\n",
        "Let's see if that controller can handle the noisy version of the Unicycle model:"
      ],
      "metadata": {
        "id": "9pRJmv1bp94l"
      }
    },
    {
      "cell_type": "code",
      "source": [
        "pure_pursuit_controller = PurePursuitController()\n",
        "avg_success, avg_steps = validation(controller=pure_pursuit_controller, motion_model=NoisyUnicycle, sensor_model=NoisyStateFeedbackWrapper, num_runs=5, plot=True)\n",
        "print(\"Success rate:\", avg_success)\n",
        "print(\"Avg. Number of Steps:\", avg_steps)"
      ],
      "metadata": {
        "id": "P09gn_6SyYWs"
      },
      "execution_count": null,
      "outputs": []
    },
    {
      "cell_type": "markdown",
      "source": [
        "Hopefully the answer is yes! Even though the vehicle doesn't perfectly follow the curve that the pure pursuit algorithm had in mind, the feedback control strategy compensates for the imperfect knowledge of the dynamics and drives the system to the goal."
      ],
      "metadata": {
        "id": "soqydewhqbpu"
      }
    },
    {
      "cell_type": "markdown",
      "source": [
        "**Deliverables**:\n",
        "- Implement the `PurePursuitController` class using the ideas presented in Lecture 2. For partial credit, get a success rate of 100%. For full credit, get a success rate of 100% with an average number of steps below 82\n",
        "- Include plots and text (one paragraph maximum) below describing your observations about the impact of hyperparameters on your algorithm.\n",
        "\n",
        "Note: The autograder will simply instantiate your controller by running `PurePursuitController()`, so make sure that any hyperparameters default to the values you would like (e.g., use keyword arguments with default values for your lookahead distance)."
      ],
      "metadata": {
        "id": "mgTNyWkcsToC"
      }
    },
    {
      "cell_type": "markdown",
      "source": [
        "## 2c) Extra Credit: Make your algorithm even better"
      ],
      "metadata": {
        "id": "Z0_CJ8k7q0LB"
      }
    },
    {
      "cell_type": "markdown",
      "source": [
        "Prof. Everett's simple pure pursuit implementation used an average number of steps of 79.44 on the validation set. You can earn 1 extra credit point if you upload a second implementation to Gradescope achieves below 80 steps on average (while also achieving 100% success). You can earn additional extra credit for having the best implementation in the class according to the Gradescope leaderboard.\n",
        "\n",
        "You can try different strategies than just pure pursuit. Whichever control strategy you end up using, please use the `BetterController` class below for this part, which has the same class/function signatures as before.\n",
        "\n",
        "Note: there will be a test suite that is similar but not identical to the validation method above to ensure your algorithm doesn't overfit to specific cases."
      ],
      "metadata": {
        "id": "u6fRRQLi0JVB"
      }
    },
    {
      "cell_type": "code",
      "source": [
        "class BetterController:\n",
        "  def __init__(self, L=3.):\n",
        "    \"\"\"Store any hyperparameters here.\"\"\"\n",
        "    self.L = L\n",
        "\n",
        "  def get_action(self, obs: np.ndarray, goal: np.ndarray) -> np.ndarray:\n",
        "\n",
        "    \"\"\"Your implementation goes here\"\"\"\n",
        "    raise NotImplementedError()\n",
        "\n",
        "    return np.array([linear_speed, angular_speed])"
      ],
      "metadata": {
        "id": "adMms5zftvxw"
      },
      "execution_count": null,
      "outputs": []
    }
  ]
}